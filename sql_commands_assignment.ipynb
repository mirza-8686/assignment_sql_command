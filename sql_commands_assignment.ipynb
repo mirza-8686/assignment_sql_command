{
  "nbformat": 4,
  "nbformat_minor": 0,
  "metadata": {
    "colab": {
      "provenance": []
    },
    "kernelspec": {
      "name": "python3",
      "display_name": "Python 3"
    },
    "language_info": {
      "name": "python"
    }
  },
  "cells": [
    {
      "cell_type": "markdown",
      "source": [],
      "metadata": {
        "id": "s6q1S5_95A1u"
      }
    },
    {
      "cell_type": "markdown",
      "source": [],
      "metadata": {
        "id": "nzpL8xPO5DFK"
      }
    },
    {
      "cell_type": "markdown",
      "source": [],
      "metadata": {
        "id": "uQeW4_vh5Dye"
      }
    },
    {
      "cell_type": "markdown",
      "source": [],
      "metadata": {
        "id": "VP0hcC9u5D11"
      }
    },
    {
      "cell_type": "markdown",
      "source": [],
      "metadata": {
        "id": "GJkobS4h_SS7"
      }
    },
    {
      "cell_type": "code",
      "execution_count": null,
      "metadata": {
        "id": "BFHFNWes4exn"
      },
      "outputs": [],
      "source": [
        "1# identify the primary keys and foreign keys in maven movies db. Discuss the differences\n",
        "Ans: primary key is also known as unique key of a particular table . it helps in retrieving data of a particular person or a thing from same table  and it doest not link\n",
        "     with other table . it avoid null values from the table .\n",
        "    example: studentid , employee_id, adhaar_number etc.\n",
        "\n",
        "    foreign key: A foreign key is a column or a set of columns in one table that references the primary key of another table.\n",
        "    It is used to enforce referential integrity between the two tables.foreign key create relationship between two tables .\n",
        "    foreign key in one table refers to the primary key in another table.\n",
        "\n",
        "\n",
        "  2 #List all details of actors\n",
        "   #code: select * from actors\n",
        "\n",
        "  3 #List all customer information from DB\n",
        "    # code: select * from customer\n",
        "\n",
        "\n",
        "  4#list different countries\n",
        "   # code: select distinct(country) from country\n",
        "\n",
        "  5# display all active customers\n",
        "   #code:\n",
        "\n",
        "\n",
        "  6#List of all rental IDs for customer with ID 1.\n",
        "   # code: select count(rental_id) from rental where customer_id = 1\n",
        "\n",
        "  7#display all the films whose rental duration is greater than 5\n",
        "   # code: select * from film where rental_duration > 5\n",
        "\n",
        "\n",
        "  8# list the total number of films whose replacement cost is greater than $15 and less than $20\n",
        "   # code: select * from film where replacement_cost >15 and replacement_cost <20\n",
        "\n",
        "  9# display the count of unique first names of actors\n",
        "   # code: select distinct(count(first_name)) from actors\n",
        "\n",
        "  10# display the first 10 records from the customer table\n",
        "    # code: select * from customer limit 10\n",
        "\n",
        "  11# display the first 3 records from the customer table whose first name starts with ‘b’\n",
        "    # code: select * from customer where first_name like 'b%';\n",
        "\n",
        "  12# display the names of the first 5 movies which are rated as ‘G’.\n",
        "    # code: select title from film where rating like 'G' limit 5\n",
        "\n",
        "  13# Find all customers whose first name starts with \"a\"\n",
        "    # code: select * from customer where first_name like 'a%'\n",
        "\n",
        "  14# Find all customers whose first name ends with \"a\".\n",
        "    # code: select * from customer where first_name like '%a'\n",
        "\n",
        "  15# Display the list of first 4 cities which start and end with ‘a’\n",
        "    # code: select city from city where city like 'a%a' limit 4\n",
        "\n",
        "  16# Find all customers whose first name have \"NI\" in any position.\n",
        "    # code: select first_name from customer where first_name like '%ni%'\n",
        "\n",
        "  17# find all customers whose first name have \"r\" in the second position\n",
        "    # code: select * from customer where first_name like '_r'\n",
        "\n",
        "  18# find all customers whose first name starts with \"a\" and are at least 5 characters in length\n",
        "    # code: select * from customer where first_name like 'a____%'\n",
        "\n",
        "  19# find all customers whose first name starts with \"a\" and ends with \"o\"\n",
        "    # code: select * from customer where first_name like 'a%o'\n",
        "\n",
        "  20# Get the films with pg and pg-13 rating using IN operator.\n",
        "    # code: select * from film where rating in ('pg' , 'pg-13')\n",
        "\n",
        "  21# Get the films with length between 50 to 100 using between operator.\n",
        "    # code: select * from film where length betweeen 50 and 100\n",
        "\n",
        "  22# get the top 50 actors using limit operator\n",
        "    # code: select * from actor limit 50\n",
        "\n",
        "  23# get unique film_id from inventory\n",
        "    # code: select distinct(film_id) from inventory\n",
        "\n",
        "\n",
        "\n",
        "\n",
        "\n",
        "\n",
        "\n",
        "\n",
        "\n",
        "\n",
        "\n",
        "\n",
        "\n",
        "\n",
        "\n",
        "\n"
      ]
    },
    {
      "cell_type": "code",
      "source": [],
      "metadata": {
        "id": "dN4DTocvCeHl"
      },
      "execution_count": null,
      "outputs": []
    },
    {
      "cell_type": "markdown",
      "source": [],
      "metadata": {
        "id": "Fkr_w2JXCfBi"
      }
    }
  ]
}